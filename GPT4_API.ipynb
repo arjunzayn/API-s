{
  "nbformat": 4,
  "nbformat_minor": 0,
  "metadata": {
    "colab": {
      "provenance": []
    },
    "kernelspec": {
      "name": "python3",
      "display_name": "Python 3"
    },
    "language_info": {
      "name": "python"
    }
  },
  "cells": [
    {
      "cell_type": "code",
      "execution_count": null,
      "metadata": {
        "id": "r3bhImT4SQY8"
      },
      "outputs": [],
      "source": [
        "#GPT4-API\n",
        "\n",
        "#You may need to:\n",
        "#Join the GPT-4 waitlist (https://openai.com/waitlist/gpt-4-api)\n",
        "#Create your API key (https://platform.openai.com/account/api-keys)"
      ]
    },
    {
      "cell_type": "code",
      "source": [
        "#Load the required dependencies\n",
        "\n",
        "import requests\n",
        "import json"
      ],
      "metadata": {
        "id": "xbQVoesuSk3W"
      },
      "execution_count": 1,
      "outputs": []
    },
    {
      "cell_type": "code",
      "source": [
        "# Add Secret API Key\n",
        "\n",
        "import getpass\n",
        "from getpass import getpass"
      ],
      "metadata": {
        "id": "Nre0rteRSk7r"
      },
      "execution_count": 2,
      "outputs": []
    },
    {
      "cell_type": "code",
      "source": [
        "secret_api_key = getpass('Enter your OpenAI API key here')"
      ],
      "metadata": {
        "id": "alec8fL-Ti5D"
      },
      "execution_count": null,
      "outputs": []
    },
    {
      "cell_type": "code",
      "source": [
        "#Create a Chat Function\n",
        "\n",
        "API_ENDPOINT = \"https://api.openai.com/v1/chat/completions\"\n",
        "API_KEY = secret_api_key\n",
        "# Another way is, you can hard code your API key in here:\n",
        "API_KEY = \"Enter your OpenAI API key\""
      ],
      "metadata": {
        "id": "Tkfo3dMLToaR"
      },
      "execution_count": null,
      "outputs": []
    },
    {
      "cell_type": "code",
      "source": [
        "messages = [\n",
        "    {\"role\": \"system\", \"content\": \"You are a helpful assistant.\"}, # optional but helps set behavior\n",
        "    {\"role\": \"user\", \"content\": \"Write a sentence about Arjun Yadav where every word begins with the next letter of the alphabet, starting with the letter D.\"}\n",
        "]"
      ],
      "metadata": {
        "id": "Gsk4EVKfVYhx"
      },
      "execution_count": null,
      "outputs": []
    },
    {
      "cell_type": "code",
      "source": [
        "def generate_chat_completion(messages,\n",
        "                             model=\"gpt-3.5-turbo\", # use can \"gpt-3.5-turbo or less\" if you dont have the access to gpt4.\n",
        "                             temperature=1, # controls randomness; higher = more random; range = 0-5 or 1-2\n",
        "                             max_tokens=None):\n",
        "\n",
        "    headers = {\n",
        "        \"Content-Type\": \"application/json\",\n",
        "        \"Authorization\": f\"Bearer {API_KEY}\",\n",
        "    }\n",
        "\n",
        "    data = {\n",
        "        \"model\": model,\n",
        "        \"messages\": messages,\n",
        "        \"temperature\": temperature,\n",
        "    }\n",
        "\n",
        "    if max_tokens is not None:\n",
        "        data[\"max_tokens\"] = max_tokens\n",
        "\n",
        "    response = requests.post(API_ENDPOINT, headers=headers, data=json.dumps(data))\n",
        "\n",
        "    if response.status_code == 200: # 200 = request OK!\n",
        "        return response.json()[\"choices\"][0][\"message\"][\"content\"]\n",
        "    else:\n",
        "        raise Exception(f\"Error {response.status_code}: {response.text}\")"
      ],
      "metadata": {
        "id": "fNjFoEMET_2B"
      },
      "execution_count": null,
      "outputs": []
    },
    {
      "cell_type": "code",
      "source": [
        "#generate chat completion\n",
        "\n",
        "generate_chat_completion(messages)"
      ],
      "metadata": {
        "id": "3mdHzW6wVG9z"
      },
      "execution_count": null,
      "outputs": []
    },
    {
      "cell_type": "markdown",
      "source": [],
      "metadata": {
        "id": "Qe-_vj5tSdTK"
      }
    }
  ]
}